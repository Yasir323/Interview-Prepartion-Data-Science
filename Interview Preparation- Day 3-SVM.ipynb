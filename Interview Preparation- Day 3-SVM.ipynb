{
  "nbformat": 4,
  "nbformat_minor": 0,
  "metadata": {
    "kernelspec": {
      "display_name": "Python 3",
      "language": "python",
      "name": "python3"
    },
    "language_info": {
      "codemirror_mode": {
        "name": "ipython",
        "version": 3
      },
      "file_extension": ".py",
      "mimetype": "text/x-python",
      "name": "python",
      "nbconvert_exporter": "python",
      "pygments_lexer": "ipython3",
      "version": "3.7.9"
    },
    "colab": {
      "name": "Interview Preparation- Day 3-SVM.ipynb",
      "provenance": [],
      "include_colab_link": true
    }
  },
  "cells": [
    {
      "cell_type": "markdown",
      "metadata": {
        "id": "view-in-github",
        "colab_type": "text"
      },
      "source": [
        "<a href=\"https://colab.research.google.com/github/Yasir323/Interview-Prepartion-Data-Science/blob/master/Interview%20Preparation-%20Day%203-SVM.ipynb\" target=\"_parent\"><img src=\"https://colab.research.google.com/assets/colab-badge.svg\" alt=\"Open In Colab\"/></a>"
      ]
    },
    {
      "cell_type": "markdown",
      "metadata": {
        "id": "4qrsMePlu5f4"
      },
      "source": [
        "# How To Learn Machine Learning Algorithms For Interviews\n",
        "\n",
        "# SVM\n",
        "\n",
        "Theoretical Understanding:\n",
        "\n",
        "1. <a href=\"https://www.youtube.com/watch?v=H9yACitf-KM\">Support Vector Machine (SVM) Basic Intuition- Part 1</a>\n",
        "2. <a href=\"https://www.youtube.com/watch?v=Js3GLb1xPhc>Maths Intuition Behind Support Vector Machine Part 2</a>\n",
        "3. <a href=\"https://www.youtube.com/watch?v=8bFKyb77vp0\">SVM Kernels In-depth Intuition- Polynomial Kernels Part 3</a>\n",
        "4. <a href=\"https://www.youtube.com/watch?v=dl_ZsuHSIFE\">SVM Kernal- Polynomial And RBF Implementation</a>\n",
        "5. <a href=\"https://www.youtube.com/watch?v=mTyT-oHoivA\">Support Vector Machines | (Kernels-I) Andre Ng</a>\n",
        "6. <a href=\"https://www.youtube.com/playlist?list=PLblh5JKOoLUL3IJ4-yor0HzkqDQ3JmJkc\">StatQuest</a>"
      ]
    },
    {
      "cell_type": "markdown",
      "metadata": {
        "id": "XtzvH-Awu5gL"
      },
      "source": [
        "## 1. What Are the Basic Assumption?\n",
        "There are no such assumptions.\n",
        "Although **IID** (Independent and Identically Distributed)is the fundamental assumption of almost all statistical learning methods."
      ]
    },
    {
      "cell_type": "markdown",
      "metadata": {
        "id": "CZd2MzdFu5gP"
      },
      "source": [
        "##  2. Advantages\n",
        "1. SVM is more effective in high dimensional spaces.\n",
        "2. SVM is relatively memory efficient.\n",
        "3. SVM’s are very good when we have no idea on the data.\n",
        "4. Works well with even unstructured and semi structured data like text, Images and trees.\n",
        "5. The kernel trick is real strength of SVM. With an appropriate kernel function, we can solve any complex problem.\n",
        "6. SVM models have generalization in practice, the risk of over-fitting is less in SVM."
      ]
    },
    {
      "cell_type": "markdown",
      "metadata": {
        "id": "UNDAkaL27qGw"
      },
      "source": [
        "## SVM in high dimensional space\n",
        "In high dimensional space it is easier for the classifier to find the decision boundary.\n",
        "\n",
        "**Will RBF Kernel work in high dimensional space?**\n",
        "\n",
        "The reason you might not prefer to use an RBF kernel for high dimensional dataset is because the RBF kernel is applied as a mapping from low dimensional space to a high dimensional space.\n",
        "\n",
        "However, when you are already in a high dimensional space a linear kernel is sufficient. This is why libraries like `LIBLINEAR` are favourable for classifying text data over `LIBSVM`.\n",
        "\n",
        "\n",
        "50\n",
        "\n",
        "In practice, the reason that SVMs tend to be resistant to over-fitting, even in cases where the number of attributes is greater than the number of observations, is that it uses regularization. They key to avoiding over-fitting lies in careful tuning of the regularization parameter, `C`(miss-classification penalty), and in the case of non-linear SVMs, careful choice of kernel and tuning of the kernel parameters.\n",
        "\n",
        "The SVM is an approximate implementation of a bound on the generalization error, that depends on the margin (essentially the distance from the decision boundary to the nearest pattern from each class), but is independent of the dimensionality of the feature space (which is why using the kernel trick to map the data into a very high dimensional space isn't such a bad idea as it might seem). So in principle SVMs should be highly resistant to over-fitting, but in practice this depends on the careful choice of `C`\n",
        "and the kernel parameters. Sadly, over-fitting can also occur quite easily when tuning the hyper-parameters as well"
      ]
    },
    {
      "cell_type": "markdown",
      "metadata": {
        "id": "PPGKRZK3_967"
      },
      "source": [
        "### Why are SVMs memory efficient?\n",
        "Mathematically, in support vector machines, the non-linear decision boundary is constructed as a linear combination of all the training data, so that a new point is classified using the following function:\n",
        "\n",
        "$y=sign(∑αi*yi*K(x,xi))$\n",
        "\n",
        "where `K` is a kernel function which measures the similarity between points `x` and `xi` and `αi`are the dual variables.\n",
        "\n",
        "Now, it turns out that often, only a few `αi`’s are non-zero. Therefore, you only need to keep those αi’s and the corresponding training points in memory."
      ]
    },
    {
      "cell_type": "markdown",
      "metadata": {
        "id": "ilo1MKBVu5gS"
      },
      "source": [
        "## 3. Disadvantages\n",
        "1. More Training Time is required for larger dataset\n",
        "2. It is difficult to choose a good kernel function\n",
        "https://www.youtube.com/watch?v=mTyT-oHoivA\n",
        "3. The SVM hyper parameters are Cost -C and gamma. It is not that easy to fine-tune these hyper-parameters. It is hard to visualize their impact"
      ]
    },
    {
      "cell_type": "markdown",
      "metadata": {
        "id": "vr_Q3awcu5gU"
      },
      "source": [
        "## 4. Whether Feature Scaling is required?\n",
        "**Yes**\n",
        "\n",
        "Distance algorithms like KNN, K-means, and SVM are most affected by the range of features. This is because behind the scenes they are using distances between data points to determine their similarity.\n",
        "\n",
        "For example, let’s say we have data containing high school CGPA scores of students (ranging from 0 to 5) and their future incomes (in thousands Rupees):\n",
        "\n",
        "![image.png](data:image/png;base64,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)\n",
        "\n",
        "Since both the features have different scales, there is a chance that higher weightage is given to features with higher magnitude. This will impact the performance of the machine learning algorithm and obviously, we do not want our algorithm to be biassed towards one feature."
      ]
    },
    {
      "cell_type": "markdown",
      "metadata": {
        "id": "NuhBt8-pcOXd"
      },
      "source": [
        "![image.png](data:image/png;base64,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)"
      ]
    },
    {
      "cell_type": "markdown",
      "metadata": {
        "id": "IGAuiFvocPq7"
      },
      "source": [
        "The effect of scaling is conspicuous when we compare the Euclidean distance between data points for students A and B, and between B and C, before and after scaling as shown below:"
      ]
    },
    {
      "cell_type": "markdown",
      "metadata": {
        "id": "ypkNSxREcUGH"
      },
      "source": [
        "\n",
        "Distance AB before scaling = sqrt((40 - 60) ^ 2 + (3 - 3) ^ 2) = 20\n",
        "\n",
        "Distance BC before scaling = sqrt((40 - 40) ^ 2 + (4 - 3) ^ 2) = 1\n",
        "\n",
        "Distance AB after scaling = sqrt((1.1 + 1.5) ^ 2 + (1.18 - 1.18) ^ 2) = 2.6\n",
        "\n",
        "Distance BC after scaling = sqrt((1.1 - 1.1) ^ 2 + (0.41 + 1.18) ^ 2) = 1.59\n",
        "\n",
        "\n",
        "Scaling has brought both the features into the picture and the distances are now more comparable than they were before we applied scaling."
      ]
    },
    {
      "cell_type": "markdown",
      "metadata": {
        "id": "9iVYVZ2pDH8r"
      },
      "source": [
        "## 5. Impact of Missing Values?\n",
        "Although SVMs are an attractive option when constructing a classifier, SVMs do not easily accommodate missing covariate information. Similar to other prediction and classification methods, in-attention to missing data when constructing an SVM can impact the accuracy and utility of the resulting classifier.\n",
        "\n",
        "If the covariate region falls outside the margin,  then the complete case strategy will not be biased.  Conversely,  missingdata matters when it occurs differentially between classes within the margin or differentiallybetween classes in regions that violate the infinite-population solution."
      ]
    },
    {
      "cell_type": "markdown",
      "metadata": {
        "id": "P1fDE4JzDHUN"
      },
      "source": [
        "## 6. Impact of outliers?\n",
        "It is usually sensitive to outliers but not that much. \n",
        "https://arxiv.org/abs/1409.0934#:~:text=Despite%20its%20popularity%2C%20SVM%20has,causes%20the%20sensitivity%20to%20outliers."
      ]
    },
    {
      "cell_type": "markdown",
      "metadata": {
        "id": "igjdnfNyu5gW"
      },
      "source": [
        "## Types of Problems it can solve(Supervised)\n",
        "1. Classification\n",
        "2. Regression"
      ]
    },
    {
      "cell_type": "markdown",
      "metadata": {
        "id": "g5otMn7uu5gY"
      },
      "source": [
        "## Overfitting And Underfitting\n",
        "In SVM, to avoid overfitting, we choose a Soft Margin, instead of a Hard one i.e. we let some data points enter our margin intentionally (but we still penalize it) so that our classifier don't overfit on our training sample\n",
        "\n",
        "https://scikit-learn.org/stable/modules/generated/sklearn.svm.SVC.html"
      ]
    },
    {
      "cell_type": "markdown",
      "metadata": {
        "id": "k3rOCQjxu5ga"
      },
      "source": [
        "## Different Problem statement you can solve using Naive Baye's\n",
        "1. We can use SVM with every ANN usecases\n",
        "2. Intrusion Detection\n",
        "3. Handwriting Recognition"
      ]
    },
    {
      "cell_type": "markdown",
      "metadata": {
        "id": "llQEfbwXu5gb"
      },
      "source": [
        "## Practical Implementation\n",
        "1. https://scikit-learn.org/stable/modules/generated/sklearn.svm.SVC.html\n",
        "2. https://scikit-learn.org/stable/modules/generated/sklearn.svm.SVR.html"
      ]
    },
    {
      "cell_type": "markdown",
      "metadata": {
        "id": "EXQ-BCngu5gc"
      },
      "source": [
        "## Performance Metrics\n",
        "#### Classification\n",
        "1. Confusion Matrix \n",
        "2. Precision,Recall, F1 score\n",
        "\n",
        "#### Regression\n",
        "1. R2,Adjusted R2\n",
        "2. MSE,RMSE,MAE"
      ]
    },
    {
      "cell_type": "code",
      "metadata": {
        "id": "x8RajYbpu5gg"
      },
      "source": [
        ""
      ],
      "execution_count": null,
      "outputs": []
    }
  ]
}